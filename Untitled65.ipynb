{
 "cells": [
  {
   "cell_type": "code",
   "execution_count": 3,
   "id": "808ef4da-4290-4c2d-b2cd-911db46c8d4f",
   "metadata": {},
   "outputs": [],
   "source": [
    "from openai import OpenAI"
   ]
  },
  {
   "cell_type": "code",
   "execution_count": 4,
   "id": "d236d3e1-0557-4861-b45e-d4959f7201ec",
   "metadata": {},
   "outputs": [],
   "source": [
    "f = open('Documents/key.txt')\n",
    "key = f.read()\n",
    "\n",
    "client = OpenAI(api_key = key)"
   ]
  },
  {
   "cell_type": "code",
   "execution_count": 15,
   "id": "569d086e-f4bd-495a-831f-029b6af43ed3",
   "metadata": {},
   "outputs": [
    {
     "name": "stdin",
     "output_type": "stream",
     "text": [
      "provide your python code import python and pandas as pd\n"
     ]
    },
    {
     "name": "stdout",
     "output_type": "stream",
     "text": [
      "There is no bug or error in importing Python and Pandas library. However, the syntax should be:\n",
      "\n",
      "```\n",
      "import pandas as pd\n",
      "```\n"
     ]
    }
   ],
   "source": [
    "prompt=input(\"provide your python code\")\n",
    "response=client.chat.completions.create(\n",
    "        model=\"gpt-3.5-turbo-0301\",\n",
    "        messages=[ \n",
    "            {\"role\":\"system\",\"content\":\"\"\"You are a helpful AI Assistant and Code reviewer\n",
    "            Find the Bugs and error and provide clean code .\"\"\"},\n",
    "            {\"role\":\"user\",\"content\":prompt}\n",
    "        ] \n",
    ")\n",
    "print(response.choices[0].message.content)"
   ]
  },
  {
   "cell_type": "code",
   "execution_count": null,
   "id": "c603e6af-9c58-4bf8-ae2a-66c3f2fed86e",
   "metadata": {},
   "outputs": [],
   "source": []
  }
 ],
 "metadata": {
  "kernelspec": {
   "display_name": "Python 3 (ipykernel)",
   "language": "python",
   "name": "python3"
  },
  "language_info": {
   "codemirror_mode": {
    "name": "ipython",
    "version": 3
   },
   "file_extension": ".py",
   "mimetype": "text/x-python",
   "name": "python",
   "nbconvert_exporter": "python",
   "pygments_lexer": "ipython3",
   "version": "3.9.10"
  }
 },
 "nbformat": 4,
 "nbformat_minor": 5
}
